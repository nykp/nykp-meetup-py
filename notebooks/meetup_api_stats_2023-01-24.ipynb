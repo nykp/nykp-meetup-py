{
 "cells": [
  {
   "cell_type": "code",
   "execution_count": 1,
   "id": "5a48743b",
   "metadata": {},
   "outputs": [],
   "source": [
    "%load_ext autoreload\n",
    "%autoreload 3"
   ]
  },
  {
   "cell_type": "code",
   "execution_count": 2,
   "id": "2e706ddd",
   "metadata": {},
   "outputs": [],
   "source": [
    "from datetime import datetime, timedelta\n",
    "from functools import partial\n",
    "from glob import glob\n",
    "import json\n",
    "import os\n",
    "from pprint import pprint\n",
    "import shutil\n",
    "import sys\n",
    "from typing import Dict, List, Optional, Tuple\n",
    "\n",
    "import numpy as np\n",
    "import pandas as pd\n",
    "import pendulum"
   ]
  },
  {
   "cell_type": "code",
   "execution_count": 4,
   "id": "4cd562ca",
   "metadata": {},
   "outputs": [],
   "source": [
    "sys.path.insert(0, '..')"
   ]
  },
  {
   "cell_type": "code",
   "execution_count": 5,
   "id": "7fab6534",
   "metadata": {},
   "outputs": [],
   "source": [
    "from nykp_meetup import EventParticipationStats, Groups, Season"
   ]
  },
  {
   "cell_type": "markdown",
   "id": "c8f4e860",
   "metadata": {},
   "source": [
    "## NYKP events"
   ]
  },
  {
   "cell_type": "code",
   "execution_count": 6,
   "id": "eb2b39fe",
   "metadata": {},
   "outputs": [],
   "source": [
    "nykp_seasons = [Season('winter-2022', '2022-01-01', '2022-05-30'),\n",
    "                Season('summer-2022','2022-06-01', '2022-10-28'),\n",
    "                Season('winter-2023', '2022-10-29', '2022-12-31')]"
   ]
  },
  {
   "cell_type": "code",
   "execution_count": 7,
   "id": "ca71e449",
   "metadata": {},
   "outputs": [
    {
     "name": "stdout",
     "output_type": "stream",
     "text": [
      "Pulled 1149 attendees so far, up to 2015-10-06T18:00-04:00 (last cursor: 'MjI1ODcxNTA4OjE0NDQxNjg4MDAwMDA=')\n",
      "Pulled 2738 attendees so far, up to 2017-04-12T20:00-04:00 (last cursor: 'MjM3NTg5MzQ5OjE0OTIwNDE2MDAwMDA=')\n",
      "Pulled 4430 attendees so far, up to 2018-12-19T20:00-05:00 (last cursor: 'MjU3MjQ0ODYyOjE1NDUyNjc2MDAwMDA=')\n",
      "Pulled 6144 attendees so far, up to 2021-03-29T19:00-04:00 (last cursor: 'Mjc2NTg5MDYxOjE2MTcwNTg4MDAwMDA=')\n",
      "Pulled 7394 attendees so far, up to 2022-08-09T18:30-04:00 (last cursor: 'Mjg3MzE0Mzg4OjE2NjAwODQyMDAwMDA=')\n"
     ]
    }
   ],
   "source": [
    "cache_path = \"cache/nykp_stats_2023-01-24.pkl\"\n",
    "\n",
    "nykp_stats = EventParticipationStats.generate(Groups.nykp, nykp_seasons)\n",
    "nykp_stats.save(cache_path)\n",
    "\n",
    "# nykp_stats = EventParticipationStats.load(cache_path)"
   ]
  },
  {
   "cell_type": "code",
   "execution_count": 8,
   "id": "27cbeceb",
   "metadata": {
    "scrolled": false
   },
   "outputs": [
    {
     "name": "stdout",
     "output_type": "stream",
     "text": [
      "WINTER-2022\n",
      "sessions: 115\n",
      "unique participants: 33\n",
      "median attendance: 7.0\n",
      "session titles: {'Weeknight session': 37, 'Thursday night drills and scrimmages': 18, 'Tuesday night games': 16, 'Saturday evening session': 14, 'Sunday morning session': 11, 'Wednesday night drills and scrimmages': 7, 'Saturday afternoon kayak polo': 3, 'Mashup Tournament': 2, 'Chilly Session': 2, 'Sunday session & move to the boathouse!': 1, 'Intro to Kayak Polo': 1, 'Move to the pool and first session': 1, 'Saturday afternoon session for experienced players': 1, 'Beginner-friendly kayak polo session': 1}\n",
      "\n",
      "SUMMER-2022\n",
      "sessions: 115\n",
      "unique participants: 29\n",
      "median attendance: 7.0\n",
      "session titles: {'Weeknight session': 37, 'Thursday night drills and scrimmages': 18, 'Tuesday night games': 16, 'Saturday evening session': 14, 'Sunday morning session': 11, 'Wednesday night drills and scrimmages': 7, 'Saturday afternoon kayak polo': 3, 'Mashup Tournament': 2, 'Chilly Session': 2, 'Sunday session & move to the boathouse!': 1, 'Intro to Kayak Polo': 1, 'Move to the pool and first session': 1, 'Saturday afternoon session for experienced players': 1, 'Beginner-friendly kayak polo session': 1}\n",
      "\n",
      "WINTER-2023\n",
      "sessions: 115\n",
      "unique participants: 32\n",
      "median attendance: 7.0\n",
      "session titles: {'Weeknight session': 37, 'Thursday night drills and scrimmages': 18, 'Tuesday night games': 16, 'Saturday evening session': 14, 'Sunday morning session': 11, 'Wednesday night drills and scrimmages': 7, 'Saturday afternoon kayak polo': 3, 'Mashup Tournament': 2, 'Chilly Session': 2, 'Sunday session & move to the boathouse!': 1, 'Intro to Kayak Polo': 1, 'Move to the pool and first session': 1, 'Saturday afternoon session for experienced players': 1, 'Beginner-friendly kayak polo session': 1}\n"
     ]
    }
   ],
   "source": [
    "nykp_stats.print_report()"
   ]
  },
  {
   "cell_type": "markdown",
   "id": "3193038c",
   "metadata": {},
   "source": [
    "## Lake Sebago events"
   ]
  },
  {
   "cell_type": "code",
   "execution_count": 9,
   "id": "dce1c01b",
   "metadata": {},
   "outputs": [],
   "source": [
    "sebago_stats = EventParticipationStats.generate(Groups.lake_sebago)"
   ]
  },
  {
   "cell_type": "code",
   "execution_count": 10,
   "id": "ef8ded6a",
   "metadata": {
    "scrolled": true
   },
   "outputs": [
    {
     "name": "stdout",
     "output_type": "stream",
     "text": [
      "sessions: 21\n",
      "unique participants: 13\n",
      "median attendance: 2.0\n",
      "session titles: {'Introductory to Kayak Polo - First timers are welcome': 14, 'Tentative - Kayak Polo Mashup Tournament': 5, 'Beginners session - First timers are welcome': 2}\n"
     ]
    }
   ],
   "source": [
    "sebago_stats.print_report()"
   ]
  },
  {
   "cell_type": "code",
   "execution_count": null,
   "id": "c50959bd",
   "metadata": {},
   "outputs": [],
   "source": []
  }
 ],
 "metadata": {
  "kernelspec": {
   "display_name": "Python 3 (ipykernel)",
   "language": "python",
   "name": "python3"
  },
  "language_info": {
   "codemirror_mode": {
    "name": "ipython",
    "version": 3
   },
   "file_extension": ".py",
   "mimetype": "text/x-python",
   "name": "python",
   "nbconvert_exporter": "python",
   "pygments_lexer": "ipython3",
   "version": "3.11.0rc1"
  }
 },
 "nbformat": 4,
 "nbformat_minor": 5
}
